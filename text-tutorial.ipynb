{
  "metadata": {
    "kernelspec": {
      "display_name": "Python 3",
      "name": "python3"
    },
    "language_info": {
      "name": "python",
      "version": "3.10.13",
      "mimetype": "text/x-python",
      "codemirror_mode": {
        "name": "ipython",
        "version": 3
      },
      "pygments_lexer": "ipython3",
      "nbconvert_exporter": "python",
      "file_extension": ".py"
    },
    "kaggle": {
      "accelerator": "nvidiaTeslaT4",
      "dataSources": [],
      "dockerImageVersionId": 30674,
      "isInternetEnabled": true,
      "language": "python",
      "sourceType": "notebook",
      "isGpuEnabled": true
    },
    "colab": {
      "provenance": [],
      "gpuType": "T4"
    },
    "accelerator": "GPU"
  },
  "nbformat_minor": 0,
  "nbformat": 4,
  "cells": [
    {
      "cell_type": "markdown",
      "source": [
        "Text Tutorial\n",
        "\n",
        "https://docs.fast.ai/tutorial.text.html"
      ],
      "metadata": {
        "id": "WEc_oVTumsjF"
      }
    },
    {
      "cell_type": "code",
      "source": [
        "# installing/upgrading fastai2\n",
        "!pip install --upgrade fastai\n",
        "\n",
        "from fastai.vision.all import *\n"
      ],
      "metadata": {
        "execution": {
          "iopub.status.busy": "2024-04-05T06:42:09.336537Z",
          "iopub.execute_input": "2024-04-05T06:42:09.337501Z",
          "iopub.status.idle": "2024-04-05T06:42:36.119709Z",
          "shell.execute_reply.started": "2024-04-05T06:42:09.337467Z",
          "shell.execute_reply": "2024-04-05T06:42:36.118845Z"
        },
        "trusted": true,
        "id": "ZAHUuwUemsjG",
        "outputId": "bbfb4d87-b841-4e36-b641-0b28925a15f7",
        "colab": {
          "base_uri": "https://localhost:8080/"
        }
      },
      "execution_count": 1,
      "outputs": [
        {
          "output_type": "stream",
          "name": "stdout",
          "text": [
            "Requirement already satisfied: fastai in /usr/local/lib/python3.10/dist-packages (2.7.14)\n",
            "Requirement already satisfied: pip in /usr/local/lib/python3.10/dist-packages (from fastai) (23.1.2)\n",
            "Requirement already satisfied: packaging in /usr/local/lib/python3.10/dist-packages (from fastai) (24.0)\n",
            "Requirement already satisfied: fastdownload<2,>=0.0.5 in /usr/local/lib/python3.10/dist-packages (from fastai) (0.0.7)\n",
            "Requirement already satisfied: fastcore<1.6,>=1.5.29 in /usr/local/lib/python3.10/dist-packages (from fastai) (1.5.29)\n",
            "Requirement already satisfied: torchvision>=0.11 in /usr/local/lib/python3.10/dist-packages (from fastai) (0.17.1+cu121)\n",
            "Requirement already satisfied: matplotlib in /usr/local/lib/python3.10/dist-packages (from fastai) (3.7.1)\n",
            "Requirement already satisfied: pandas in /usr/local/lib/python3.10/dist-packages (from fastai) (2.0.3)\n",
            "Requirement already satisfied: requests in /usr/local/lib/python3.10/dist-packages (from fastai) (2.31.0)\n",
            "Requirement already satisfied: pyyaml in /usr/local/lib/python3.10/dist-packages (from fastai) (6.0.1)\n",
            "Requirement already satisfied: fastprogress>=0.2.4 in /usr/local/lib/python3.10/dist-packages (from fastai) (1.0.3)\n",
            "Requirement already satisfied: pillow>=9.0.0 in /usr/local/lib/python3.10/dist-packages (from fastai) (9.4.0)\n",
            "Requirement already satisfied: scikit-learn in /usr/local/lib/python3.10/dist-packages (from fastai) (1.2.2)\n",
            "Requirement already satisfied: scipy in /usr/local/lib/python3.10/dist-packages (from fastai) (1.11.4)\n",
            "Requirement already satisfied: spacy<4 in /usr/local/lib/python3.10/dist-packages (from fastai) (3.7.4)\n",
            "Requirement already satisfied: torch<2.3,>=1.10 in /usr/local/lib/python3.10/dist-packages (from fastai) (2.2.1+cu121)\n",
            "Requirement already satisfied: spacy-legacy<3.1.0,>=3.0.11 in /usr/local/lib/python3.10/dist-packages (from spacy<4->fastai) (3.0.12)\n",
            "Requirement already satisfied: spacy-loggers<2.0.0,>=1.0.0 in /usr/local/lib/python3.10/dist-packages (from spacy<4->fastai) (1.0.5)\n",
            "Requirement already satisfied: murmurhash<1.1.0,>=0.28.0 in /usr/local/lib/python3.10/dist-packages (from spacy<4->fastai) (1.0.10)\n",
            "Requirement already satisfied: cymem<2.1.0,>=2.0.2 in /usr/local/lib/python3.10/dist-packages (from spacy<4->fastai) (2.0.8)\n",
            "Requirement already satisfied: preshed<3.1.0,>=3.0.2 in /usr/local/lib/python3.10/dist-packages (from spacy<4->fastai) (3.0.9)\n",
            "Requirement already satisfied: thinc<8.3.0,>=8.2.2 in /usr/local/lib/python3.10/dist-packages (from spacy<4->fastai) (8.2.3)\n",
            "Requirement already satisfied: wasabi<1.2.0,>=0.9.1 in /usr/local/lib/python3.10/dist-packages (from spacy<4->fastai) (1.1.2)\n",
            "Requirement already satisfied: srsly<3.0.0,>=2.4.3 in /usr/local/lib/python3.10/dist-packages (from spacy<4->fastai) (2.4.8)\n",
            "Requirement already satisfied: catalogue<2.1.0,>=2.0.6 in /usr/local/lib/python3.10/dist-packages (from spacy<4->fastai) (2.0.10)\n",
            "Requirement already satisfied: weasel<0.4.0,>=0.1.0 in /usr/local/lib/python3.10/dist-packages (from spacy<4->fastai) (0.3.4)\n",
            "Requirement already satisfied: typer<0.10.0,>=0.3.0 in /usr/local/lib/python3.10/dist-packages (from spacy<4->fastai) (0.9.4)\n",
            "Requirement already satisfied: smart-open<7.0.0,>=5.2.1 in /usr/local/lib/python3.10/dist-packages (from spacy<4->fastai) (6.4.0)\n",
            "Requirement already satisfied: tqdm<5.0.0,>=4.38.0 in /usr/local/lib/python3.10/dist-packages (from spacy<4->fastai) (4.66.2)\n",
            "Requirement already satisfied: pydantic!=1.8,!=1.8.1,<3.0.0,>=1.7.4 in /usr/local/lib/python3.10/dist-packages (from spacy<4->fastai) (2.6.4)\n",
            "Requirement already satisfied: jinja2 in /usr/local/lib/python3.10/dist-packages (from spacy<4->fastai) (3.1.3)\n",
            "Requirement already satisfied: setuptools in /usr/local/lib/python3.10/dist-packages (from spacy<4->fastai) (67.7.2)\n",
            "Requirement already satisfied: langcodes<4.0.0,>=3.2.0 in /usr/local/lib/python3.10/dist-packages (from spacy<4->fastai) (3.3.0)\n",
            "Requirement already satisfied: numpy>=1.19.0 in /usr/local/lib/python3.10/dist-packages (from spacy<4->fastai) (1.25.2)\n",
            "Requirement already satisfied: charset-normalizer<4,>=2 in /usr/local/lib/python3.10/dist-packages (from requests->fastai) (3.3.2)\n",
            "Requirement already satisfied: idna<4,>=2.5 in /usr/local/lib/python3.10/dist-packages (from requests->fastai) (3.6)\n",
            "Requirement already satisfied: urllib3<3,>=1.21.1 in /usr/local/lib/python3.10/dist-packages (from requests->fastai) (2.0.7)\n",
            "Requirement already satisfied: certifi>=2017.4.17 in /usr/local/lib/python3.10/dist-packages (from requests->fastai) (2024.2.2)\n",
            "Requirement already satisfied: filelock in /usr/local/lib/python3.10/dist-packages (from torch<2.3,>=1.10->fastai) (3.13.3)\n",
            "Requirement already satisfied: typing-extensions>=4.8.0 in /usr/local/lib/python3.10/dist-packages (from torch<2.3,>=1.10->fastai) (4.10.0)\n",
            "Requirement already satisfied: sympy in /usr/local/lib/python3.10/dist-packages (from torch<2.3,>=1.10->fastai) (1.12)\n",
            "Requirement already satisfied: networkx in /usr/local/lib/python3.10/dist-packages (from torch<2.3,>=1.10->fastai) (3.2.1)\n",
            "Requirement already satisfied: fsspec in /usr/local/lib/python3.10/dist-packages (from torch<2.3,>=1.10->fastai) (2023.6.0)\n",
            "Collecting nvidia-cuda-nvrtc-cu12==12.1.105 (from torch<2.3,>=1.10->fastai)\n",
            "  Downloading nvidia_cuda_nvrtc_cu12-12.1.105-py3-none-manylinux1_x86_64.whl (23.7 MB)\n",
            "\u001b[2K     \u001b[90m━━━━━━━━━━━━━━━━━━━━━━━━━━━━━━━━━━━━━━━━\u001b[0m \u001b[32m23.7/23.7 MB\u001b[0m \u001b[31m22.0 MB/s\u001b[0m eta \u001b[36m0:00:00\u001b[0m\n",
            "\u001b[?25hCollecting nvidia-cuda-runtime-cu12==12.1.105 (from torch<2.3,>=1.10->fastai)\n",
            "  Downloading nvidia_cuda_runtime_cu12-12.1.105-py3-none-manylinux1_x86_64.whl (823 kB)\n",
            "\u001b[2K     \u001b[90m━━━━━━━━━━━━━━━━━━━━━━━━━━━━━━━━━━━━━━━━\u001b[0m \u001b[32m823.6/823.6 kB\u001b[0m \u001b[31m28.1 MB/s\u001b[0m eta \u001b[36m0:00:00\u001b[0m\n",
            "\u001b[?25hCollecting nvidia-cuda-cupti-cu12==12.1.105 (from torch<2.3,>=1.10->fastai)\n",
            "  Downloading nvidia_cuda_cupti_cu12-12.1.105-py3-none-manylinux1_x86_64.whl (14.1 MB)\n",
            "\u001b[2K     \u001b[90m━━━━━━━━━━━━━━━━━━━━━━━━━━━━━━━━━━━━━━━━\u001b[0m \u001b[32m14.1/14.1 MB\u001b[0m \u001b[31m60.0 MB/s\u001b[0m eta \u001b[36m0:00:00\u001b[0m\n",
            "\u001b[?25hCollecting nvidia-cudnn-cu12==8.9.2.26 (from torch<2.3,>=1.10->fastai)\n",
            "  Downloading nvidia_cudnn_cu12-8.9.2.26-py3-none-manylinux1_x86_64.whl (731.7 MB)\n",
            "\u001b[2K     \u001b[90m━━━━━━━━━━━━━━━━━━━━━━━━━━━━━━━━━━━━━━━━\u001b[0m \u001b[32m731.7/731.7 MB\u001b[0m \u001b[31m1.5 MB/s\u001b[0m eta \u001b[36m0:00:00\u001b[0m\n",
            "\u001b[?25hCollecting nvidia-cublas-cu12==12.1.3.1 (from torch<2.3,>=1.10->fastai)\n",
            "  Downloading nvidia_cublas_cu12-12.1.3.1-py3-none-manylinux1_x86_64.whl (410.6 MB)\n",
            "\u001b[2K     \u001b[90m━━━━━━━━━━━━━━━━━━━━━━━━━━━━━━━━━━━━━━━━\u001b[0m \u001b[32m410.6/410.6 MB\u001b[0m \u001b[31m3.3 MB/s\u001b[0m eta \u001b[36m0:00:00\u001b[0m\n",
            "\u001b[?25hCollecting nvidia-cufft-cu12==11.0.2.54 (from torch<2.3,>=1.10->fastai)\n",
            "  Downloading nvidia_cufft_cu12-11.0.2.54-py3-none-manylinux1_x86_64.whl (121.6 MB)\n",
            "\u001b[2K     \u001b[90m━━━━━━━━━━━━━━━━━━━━━━━━━━━━━━━━━━━━━━━━\u001b[0m \u001b[32m121.6/121.6 MB\u001b[0m \u001b[31m8.0 MB/s\u001b[0m eta \u001b[36m0:00:00\u001b[0m\n",
            "\u001b[?25hCollecting nvidia-curand-cu12==10.3.2.106 (from torch<2.3,>=1.10->fastai)\n",
            "  Downloading nvidia_curand_cu12-10.3.2.106-py3-none-manylinux1_x86_64.whl (56.5 MB)\n",
            "\u001b[2K     \u001b[90m━━━━━━━━━━━━━━━━━━━━━━━━━━━━━━━━━━━━━━━━\u001b[0m \u001b[32m56.5/56.5 MB\u001b[0m \u001b[31m11.5 MB/s\u001b[0m eta \u001b[36m0:00:00\u001b[0m\n",
            "\u001b[?25hCollecting nvidia-cusolver-cu12==11.4.5.107 (from torch<2.3,>=1.10->fastai)\n",
            "  Downloading nvidia_cusolver_cu12-11.4.5.107-py3-none-manylinux1_x86_64.whl (124.2 MB)\n",
            "\u001b[2K     \u001b[90m━━━━━━━━━━━━━━━━━━━━━━━━━━━━━━━━━━━━━━━━\u001b[0m \u001b[32m124.2/124.2 MB\u001b[0m \u001b[31m8.3 MB/s\u001b[0m eta \u001b[36m0:00:00\u001b[0m\n",
            "\u001b[?25hCollecting nvidia-cusparse-cu12==12.1.0.106 (from torch<2.3,>=1.10->fastai)\n",
            "  Downloading nvidia_cusparse_cu12-12.1.0.106-py3-none-manylinux1_x86_64.whl (196.0 MB)\n",
            "\u001b[2K     \u001b[90m━━━━━━━━━━━━━━━━━━━━━━━━━━━━━━━━━━━━━━━━\u001b[0m \u001b[32m196.0/196.0 MB\u001b[0m \u001b[31m2.4 MB/s\u001b[0m eta \u001b[36m0:00:00\u001b[0m\n",
            "\u001b[?25hCollecting nvidia-nccl-cu12==2.19.3 (from torch<2.3,>=1.10->fastai)\n",
            "  Downloading nvidia_nccl_cu12-2.19.3-py3-none-manylinux1_x86_64.whl (166.0 MB)\n",
            "\u001b[2K     \u001b[90m━━━━━━━━━━━━━━━━━━━━━━━━━━━━━━━━━━━━━━━━\u001b[0m \u001b[32m166.0/166.0 MB\u001b[0m \u001b[31m7.3 MB/s\u001b[0m eta \u001b[36m0:00:00\u001b[0m\n",
            "\u001b[?25hCollecting nvidia-nvtx-cu12==12.1.105 (from torch<2.3,>=1.10->fastai)\n",
            "  Downloading nvidia_nvtx_cu12-12.1.105-py3-none-manylinux1_x86_64.whl (99 kB)\n",
            "\u001b[2K     \u001b[90m━━━━━━━━━━━━━━━━━━━━━━━━━━━━━━━━━━━━━━━━\u001b[0m \u001b[32m99.1/99.1 kB\u001b[0m \u001b[31m17.0 MB/s\u001b[0m eta \u001b[36m0:00:00\u001b[0m\n",
            "\u001b[?25hRequirement already satisfied: triton==2.2.0 in /usr/local/lib/python3.10/dist-packages (from torch<2.3,>=1.10->fastai) (2.2.0)\n",
            "Collecting nvidia-nvjitlink-cu12 (from nvidia-cusolver-cu12==11.4.5.107->torch<2.3,>=1.10->fastai)\n",
            "  Downloading nvidia_nvjitlink_cu12-12.4.127-py3-none-manylinux2014_x86_64.whl (21.1 MB)\n",
            "\u001b[2K     \u001b[90m━━━━━━━━━━━━━━━━━━━━━━━━━━━━━━━━━━━━━━━━\u001b[0m \u001b[32m21.1/21.1 MB\u001b[0m \u001b[31m79.2 MB/s\u001b[0m eta \u001b[36m0:00:00\u001b[0m\n",
            "\u001b[?25hRequirement already satisfied: contourpy>=1.0.1 in /usr/local/lib/python3.10/dist-packages (from matplotlib->fastai) (1.2.0)\n",
            "Requirement already satisfied: cycler>=0.10 in /usr/local/lib/python3.10/dist-packages (from matplotlib->fastai) (0.12.1)\n",
            "Requirement already satisfied: fonttools>=4.22.0 in /usr/local/lib/python3.10/dist-packages (from matplotlib->fastai) (4.50.0)\n",
            "Requirement already satisfied: kiwisolver>=1.0.1 in /usr/local/lib/python3.10/dist-packages (from matplotlib->fastai) (1.4.5)\n",
            "Requirement already satisfied: pyparsing>=2.3.1 in /usr/local/lib/python3.10/dist-packages (from matplotlib->fastai) (3.1.2)\n",
            "Requirement already satisfied: python-dateutil>=2.7 in /usr/local/lib/python3.10/dist-packages (from matplotlib->fastai) (2.8.2)\n",
            "Requirement already satisfied: pytz>=2020.1 in /usr/local/lib/python3.10/dist-packages (from pandas->fastai) (2023.4)\n",
            "Requirement already satisfied: tzdata>=2022.1 in /usr/local/lib/python3.10/dist-packages (from pandas->fastai) (2024.1)\n",
            "Requirement already satisfied: joblib>=1.1.1 in /usr/local/lib/python3.10/dist-packages (from scikit-learn->fastai) (1.3.2)\n",
            "Requirement already satisfied: threadpoolctl>=2.0.0 in /usr/local/lib/python3.10/dist-packages (from scikit-learn->fastai) (3.4.0)\n",
            "Requirement already satisfied: annotated-types>=0.4.0 in /usr/local/lib/python3.10/dist-packages (from pydantic!=1.8,!=1.8.1,<3.0.0,>=1.7.4->spacy<4->fastai) (0.6.0)\n",
            "Requirement already satisfied: pydantic-core==2.16.3 in /usr/local/lib/python3.10/dist-packages (from pydantic!=1.8,!=1.8.1,<3.0.0,>=1.7.4->spacy<4->fastai) (2.16.3)\n",
            "Requirement already satisfied: six>=1.5 in /usr/local/lib/python3.10/dist-packages (from python-dateutil>=2.7->matplotlib->fastai) (1.16.0)\n",
            "Requirement already satisfied: blis<0.8.0,>=0.7.8 in /usr/local/lib/python3.10/dist-packages (from thinc<8.3.0,>=8.2.2->spacy<4->fastai) (0.7.11)\n",
            "Requirement already satisfied: confection<1.0.0,>=0.0.1 in /usr/local/lib/python3.10/dist-packages (from thinc<8.3.0,>=8.2.2->spacy<4->fastai) (0.1.4)\n",
            "Requirement already satisfied: click<9.0.0,>=7.1.1 in /usr/local/lib/python3.10/dist-packages (from typer<0.10.0,>=0.3.0->spacy<4->fastai) (8.1.7)\n",
            "Requirement already satisfied: cloudpathlib<0.17.0,>=0.7.0 in /usr/local/lib/python3.10/dist-packages (from weasel<0.4.0,>=0.1.0->spacy<4->fastai) (0.16.0)\n",
            "Requirement already satisfied: MarkupSafe>=2.0 in /usr/local/lib/python3.10/dist-packages (from jinja2->spacy<4->fastai) (2.1.5)\n",
            "Requirement already satisfied: mpmath>=0.19 in /usr/local/lib/python3.10/dist-packages (from sympy->torch<2.3,>=1.10->fastai) (1.3.0)\n",
            "Installing collected packages: nvidia-nvtx-cu12, nvidia-nvjitlink-cu12, nvidia-nccl-cu12, nvidia-curand-cu12, nvidia-cufft-cu12, nvidia-cuda-runtime-cu12, nvidia-cuda-nvrtc-cu12, nvidia-cuda-cupti-cu12, nvidia-cublas-cu12, nvidia-cusparse-cu12, nvidia-cudnn-cu12, nvidia-cusolver-cu12\n",
            "Successfully installed nvidia-cublas-cu12-12.1.3.1 nvidia-cuda-cupti-cu12-12.1.105 nvidia-cuda-nvrtc-cu12-12.1.105 nvidia-cuda-runtime-cu12-12.1.105 nvidia-cudnn-cu12-8.9.2.26 nvidia-cufft-cu12-11.0.2.54 nvidia-curand-cu12-10.3.2.106 nvidia-cusolver-cu12-11.4.5.107 nvidia-cusparse-cu12-12.1.0.106 nvidia-nccl-cu12-2.19.3 nvidia-nvjitlink-cu12-12.4.127 nvidia-nvtx-cu12-12.1.105\n"
          ]
        }
      ]
    },
    {
      "cell_type": "code",
      "source": [
        "%matplotlib inline\n"
      ],
      "metadata": {
        "execution": {
          "iopub.status.busy": "2024-04-05T06:42:36.121160Z",
          "iopub.execute_input": "2024-04-05T06:42:36.121449Z",
          "iopub.status.idle": "2024-04-05T06:42:36.126757Z",
          "shell.execute_reply.started": "2024-04-05T06:42:36.121425Z",
          "shell.execute_reply": "2024-04-05T06:42:36.125830Z"
        },
        "trusted": true,
        "id": "aRy9NzISmsjH"
      },
      "execution_count": 2,
      "outputs": []
    },
    {
      "cell_type": "code",
      "source": [
        "from fastai.text.all import *"
      ],
      "metadata": {
        "execution": {
          "iopub.status.busy": "2024-04-05T06:42:36.127900Z",
          "iopub.execute_input": "2024-04-05T06:42:36.128205Z",
          "iopub.status.idle": "2024-04-05T06:42:36.155961Z",
          "shell.execute_reply.started": "2024-04-05T06:42:36.128181Z",
          "shell.execute_reply": "2024-04-05T06:42:36.155306Z"
        },
        "trusted": true,
        "id": "vO6v12BTmsjH"
      },
      "execution_count": 3,
      "outputs": []
    },
    {
      "cell_type": "code",
      "source": [
        "path = untar_data(URLs.IMDB)\n",
        "path.ls()"
      ],
      "metadata": {
        "execution": {
          "iopub.status.busy": "2024-04-05T06:43:06.842433Z",
          "iopub.execute_input": "2024-04-05T06:43:06.843276Z",
          "iopub.status.idle": "2024-04-05T06:43:36.477627Z",
          "shell.execute_reply.started": "2024-04-05T06:43:06.843245Z",
          "shell.execute_reply": "2024-04-05T06:43:36.476575Z"
        },
        "trusted": true,
        "id": "TqQS9YmJmsjH",
        "outputId": "5b37d5ca-9a1e-4771-952c-2248d804f2d3"
      },
      "execution_count": null,
      "outputs": [
        {
          "output_type": "display_data",
          "data": {
            "text/plain": "<IPython.core.display.HTML object>",
            "text/html": "\n<style>\n    /* Turns off some styling */\n    progress {\n        /* gets rid of default border in Firefox and Opera. */\n        border: none;\n        /* Needs to be in here for Safari polyfill so background images work as expected. */\n        background-size: auto;\n    }\n    progress:not([value]), progress:not([value])::-webkit-progress-bar {\n        background: repeating-linear-gradient(45deg, #7e7e7e, #7e7e7e 10px, #5c5c5c 10px, #5c5c5c 20px);\n    }\n    .progress-bar-interrupted, .progress-bar-interrupted::-webkit-progress-bar {\n        background: #F44336;\n    }\n</style>\n"
          },
          "metadata": {}
        },
        {
          "output_type": "display_data",
          "data": {
            "text/plain": "<IPython.core.display.HTML object>",
            "text/html": "\n    <div>\n      <progress value='144441344' class='' max='144440600' style='width:300px; height:20px; vertical-align: middle;'></progress>\n      100.00% [144441344/144440600 00:03&lt;00:00]\n    </div>\n    "
          },
          "metadata": {}
        },
        {
          "execution_count": 5,
          "output_type": "execute_result",
          "data": {
            "text/plain": "(#7) [Path('/root/.fastai/data/imdb/imdb.vocab'),Path('/root/.fastai/data/imdb/README'),Path('/root/.fastai/data/imdb/unsup'),Path('/root/.fastai/data/imdb/test'),Path('/root/.fastai/data/imdb/tmp_lm'),Path('/root/.fastai/data/imdb/train'),Path('/root/.fastai/data/imdb/tmp_clas')]"
          },
          "metadata": {}
        }
      ]
    },
    {
      "cell_type": "code",
      "source": [
        "(path/'train').ls()"
      ],
      "metadata": {
        "execution": {
          "iopub.status.busy": "2024-04-04T05:37:55.543807Z",
          "iopub.execute_input": "2024-04-04T05:37:55.544661Z",
          "iopub.status.idle": "2024-04-04T05:37:55.550733Z",
          "shell.execute_reply.started": "2024-04-04T05:37:55.544628Z",
          "shell.execute_reply": "2024-04-04T05:37:55.549880Z"
        },
        "trusted": true,
        "id": "d0HqZ7rimsjI",
        "outputId": "e38950c1-3a18-471b-f3c8-af7c8b7a1c09"
      },
      "execution_count": null,
      "outputs": [
        {
          "execution_count": 6,
          "output_type": "execute_result",
          "data": {
            "text/plain": "(#4) [Path('/root/.fastai/data/imdb/train/neg'),Path('/root/.fastai/data/imdb/train/unsupBow.feat'),Path('/root/.fastai/data/imdb/train/labeledBow.feat'),Path('/root/.fastai/data/imdb/train/pos')]"
          },
          "metadata": {}
        }
      ]
    },
    {
      "cell_type": "code",
      "source": [
        "dls = TextDataLoaders.from_folder(untar_data(URLs.IMDB), valid='test')"
      ],
      "metadata": {
        "execution": {
          "iopub.status.busy": "2024-04-04T05:38:04.056835Z",
          "iopub.execute_input": "2024-04-04T05:38:04.057689Z",
          "iopub.status.idle": "2024-04-04T05:42:54.324294Z",
          "shell.execute_reply.started": "2024-04-04T05:38:04.057653Z",
          "shell.execute_reply": "2024-04-04T05:42:54.323167Z"
        },
        "trusted": true,
        "id": "xwZ35Qx8msjI",
        "outputId": "dc94ff2f-d2ac-4a31-dfb7-8773e38dcb88"
      },
      "execution_count": null,
      "outputs": [
        {
          "output_type": "display_data",
          "data": {
            "text/plain": "<IPython.core.display.HTML object>",
            "text/html": "\n<style>\n    /* Turns off some styling */\n    progress {\n        /* gets rid of default border in Firefox and Opera. */\n        border: none;\n        /* Needs to be in here for Safari polyfill so background images work as expected. */\n        background-size: auto;\n    }\n    progress:not([value]), progress:not([value])::-webkit-progress-bar {\n        background: repeating-linear-gradient(45deg, #7e7e7e, #7e7e7e 10px, #5c5c5c 10px, #5c5c5c 20px);\n    }\n    .progress-bar-interrupted, .progress-bar-interrupted::-webkit-progress-bar {\n        background: #F44336;\n    }\n</style>\n"
          },
          "metadata": {}
        },
        {
          "output_type": "display_data",
          "data": {
            "text/plain": "<IPython.core.display.HTML object>",
            "text/html": ""
          },
          "metadata": {}
        }
      ]
    },
    {
      "cell_type": "code",
      "source": [
        "dls.show_batch()"
      ],
      "metadata": {
        "execution": {
          "iopub.status.busy": "2024-04-04T05:45:36.188667Z",
          "iopub.execute_input": "2024-04-04T05:45:36.189343Z",
          "iopub.status.idle": "2024-04-04T05:45:36.713669Z",
          "shell.execute_reply.started": "2024-04-04T05:45:36.189305Z",
          "shell.execute_reply": "2024-04-04T05:45:36.712700Z"
        },
        "trusted": true,
        "id": "-eRuR0BzmsjI",
        "outputId": "2be880f4-1c70-4c7e-cdd5-1441676e5dfb"
      },
      "execution_count": null,
      "outputs": [
        {
          "output_type": "display_data",
          "data": {
            "text/plain": "<IPython.core.display.HTML object>",
            "text/html": "<table border=\"1\" class=\"dataframe\">\n  <thead>\n    <tr style=\"text-align: right;\">\n      <th></th>\n      <th>text</th>\n      <th>category</th>\n    </tr>\n  </thead>\n  <tbody>\n    <tr>\n      <th>0</th>\n      <td>xxbos xxmaj match 1 : xxmaj tag xxmaj team xxmaj table xxmaj match xxmaj bubba xxmaj ray and xxmaj spike xxmaj dudley vs xxmaj eddie xxmaj guerrero and xxmaj chris xxmaj benoit xxmaj bubba xxmaj ray and xxmaj spike xxmaj dudley started things off with a xxmaj tag xxmaj team xxmaj table xxmaj match against xxmaj eddie xxmaj guerrero and xxmaj chris xxmaj benoit . xxmaj according to the rules of the match , both opponents have to go through tables in order to get the win . xxmaj benoit and xxmaj guerrero heated up early on by taking turns hammering first xxmaj spike and then xxmaj bubba xxmaj ray . a xxmaj german xxunk by xxmaj benoit to xxmaj bubba took the wind out of the xxmaj dudley brother . xxmaj spike tried to help his brother , but the referee restrained him while xxmaj benoit and xxmaj guerrero</td>\n      <td>pos</td>\n    </tr>\n    <tr>\n      <th>1</th>\n      <td>xxbos xxmaj warning : xxmaj does contain spoilers . \\n\\n xxmaj open xxmaj your xxmaj eyes \\n\\n xxmaj if you have not seen this film and plan on doing so , just stop reading here and take my word for it . xxmaj you have to see this film . i have seen it four times so far and i still have n't made up my mind as to what exactly happened in the film . xxmaj that is all i am going to say because if you have not seen this film , then stop reading right now . \\n\\n xxmaj if you are still reading then i am going to pose some questions to you and maybe if anyone has any answers you can email me and let me know what you think . \\n\\n i remember my xxmaj grade 11 xxmaj english teacher quite well . xxmaj</td>\n      <td>pos</td>\n    </tr>\n    <tr>\n      <th>2</th>\n      <td>xxbos i thought that xxup rotj was clearly the best out of the three xxmaj star xxmaj wars movies . i find it surprising that xxup rotj is considered the weakest installment in the xxmaj trilogy by many who have voted . xxmaj to me it seemed like xxup rotj was the best because it had the most profound plot , the most suspense , surprises , most xxunk the ending ) and definitely the most episodic movie . i personally like the xxmaj empire xxmaj strikes xxmaj back a lot also but i think it is slightly less good than than xxup rotj since it was slower - moving , was not as episodic , and i just did not feel as much suspense or emotion as i did with the third movie . \\n\\n xxmaj it also seems like to me that after reading these surprising reviews that</td>\n      <td>pos</td>\n    </tr>\n    <tr>\n      <th>3</th>\n      <td>xxbos xxup the xxup shop xxup around xxup the xxup corner is one of the sweetest and most feel - good romantic comedies ever made . xxmaj there 's just no getting around that , and it 's hard to actually put one 's feeling for this film into words . xxmaj it 's not one of those films that tries too hard , nor does it come up with the oddest possible scenarios to get the two protagonists together in the end . xxmaj in fact , all its charm is innate , contained within the characters and the setting and the plot … which is highly believable to boot . xxmaj it 's easy to think that such a love story , as beautiful as any other ever told , * could * happen to you … a feeling you do n't often get from other romantic comedies</td>\n      <td>pos</td>\n    </tr>\n    <tr>\n      <th>4</th>\n      <td>xxbos xxmaj in xxup nyc , seaman xxmaj michael o'hara ( orson xxmaj welles ) rescues xxmaj elsa xxmaj bannister ( rita xxmaj hayworth ) from a mugging &amp; rape as she takes a horse &amp; carriage through xxmaj central xxmaj park -and lives to regret it . xxmaj xxunk - haired xxmaj hayworth 's a platinum blonde in this one ; as dazzling as fresh - fallen snow -but nowhere near as pure … \\n\\n xxmaj to reveal any more of the convoluted plot in this seminal \" noir \" would be criminal . xxmaj it 's as deceptive as the mirrors used to cataclysmic effect in the final scenes -but the film holds far darker secrets : xxmaj from the xxup ny xxmaj times : \" childhood xxmaj shadows : xxmaj the xxmaj hidden xxmaj story xxmaj of xxmaj the xxmaj black xxmaj dahlia xxmaj murder \" by</td>\n      <td>pos</td>\n    </tr>\n    <tr>\n      <th>5</th>\n      <td>xxbos xxunk ) is the developing world 's answer to xxmaj silence of the xxmaj lambs . xxmaj where ` silence ' terrorized our peace of mind , ` citizen ' exhausts and saddens us instead . xxmaj this dramatization of the xxmaj chikatilo case translates rather well , thanks to a xxmaj westernized friendship between two xxmaj rostov cops who become equals . \\n\\n citizenx may also argue against ( ! ) the death penalty far better than xxmaj kevin xxmaj spacey 's xxmaj the xxmaj life of xxmaj david xxmaj xxunk ) . \\n\\n xxmaj humans are xxmaj machiavellian mammals , under which lie limbic brains ( lizard - logic ) . xxmaj why did two kids , who knew better , stone to death a toddler they kidnapped ? xxmaj why do bloodthirsty women yell ` li - xxunk ' at acts of xxup obscene terrorism ?</td>\n      <td>pos</td>\n    </tr>\n    <tr>\n      <th>6</th>\n      <td>xxbos xxmaj my xxmaj comments for xxup vivah : - xxmaj its a charming , idealistic love story starring xxmaj shahid xxmaj kapoor and xxmaj amrita xxmaj rao . xxmaj the film takes us back to small pleasures like the bride and bridegroom 's families sleeping on the floor , playing games together , their friendly banter and mutual respect . xxmaj vivah is about the sanctity of marriage and the importance of commitment between two individuals . xxmaj yes , the central romance is naively visualized . xxmaj but the sneaked - in romantic moments between the to - be - married couple and their stubborn resistance to modern courtship games makes you crave for the idealism . xxmaj the film predictably concludes with the marriage and the groom , on the wedding night , tells his new bride who suffers from burn injuries : \" come let me</td>\n      <td>pos</td>\n    </tr>\n    <tr>\n      <th>7</th>\n      <td>xxbos 8 xxmaj simple xxmaj rules for xxmaj dating xxmaj my xxmaj teenage xxmaj daughter had an auspicious start . xxmaj the supremely - talented xxmaj tom xxmaj shadyac was involved in the project . xxmaj this meant that the comedy would be nothing less of spectacular , and that 's exactly what happened : the show remains one of the freshest , funniest , wittiest shows made in a very long time . xxmaj every line , facial expression , casting choice , scene , all wreaked of perfection . xxmaj there was not one episode after which i thought , \" man that was n't as good as the rest \" . xxmaj each one was a standout . xxmaj again , this is the kind of perfectionism that we 've come to expect from xxmaj tom . xxmaj for those who do n't know , xxmaj tom</td>\n      <td>pos</td>\n    </tr>\n    <tr>\n      <th>8</th>\n      <td>xxbos xxmaj it has said that xxmaj the xxmaj movies and xxmaj baseball both thrived during xxmaj the xxmaj great xxmaj depression . xxmaj it appears that the grim realities of a xxmaj nation caught up in the aftermath of this xxmaj economic xxmaj disaster created a need for occasional relief for the populace . a temporary escape could be found in the on going soap opera that is xxmaj baseball . \\n\\n xxmaj likewise , an occasional excursion of 2 or 3 hours into the darkened xxunk of the xxmaj cinema . xxmaj the presence of a xxmaj radio in just about everyone 's house hold kept xxmaj depression xxmaj era xxmaj america at once attuned to xxmaj world 's xxmaj events and provided many a xxmaj drama and ( especially ) xxmaj comedy xxmaj shows for a pleasant interlude from harsh reality . \\n\\n xxmaj the literature of</td>\n      <td>pos</td>\n    </tr>\n  </tbody>\n</table>"
          },
          "metadata": {}
        }
      ]
    },
    {
      "cell_type": "code",
      "source": [
        "learn = text_classifier_learner(dls, AWD_LSTM, drop_mult=0.5, metrics=accuracy)"
      ],
      "metadata": {
        "execution": {
          "iopub.status.busy": "2024-04-04T05:46:02.062046Z",
          "iopub.execute_input": "2024-04-04T05:46:02.063164Z",
          "iopub.status.idle": "2024-04-04T05:46:09.437391Z",
          "shell.execute_reply.started": "2024-04-04T05:46:02.063127Z",
          "shell.execute_reply": "2024-04-04T05:46:09.436516Z"
        },
        "trusted": true,
        "id": "NgURWdWimsjI",
        "outputId": "9e92f816-9cb5-433b-9872-95a82b1d2806"
      },
      "execution_count": null,
      "outputs": [
        {
          "output_type": "display_data",
          "data": {
            "text/plain": "<IPython.core.display.HTML object>",
            "text/html": "\n<style>\n    /* Turns off some styling */\n    progress {\n        /* gets rid of default border in Firefox and Opera. */\n        border: none;\n        /* Needs to be in here for Safari polyfill so background images work as expected. */\n        background-size: auto;\n    }\n    progress:not([value]), progress:not([value])::-webkit-progress-bar {\n        background: repeating-linear-gradient(45deg, #7e7e7e, #7e7e7e 10px, #5c5c5c 10px, #5c5c5c 20px);\n    }\n    .progress-bar-interrupted, .progress-bar-interrupted::-webkit-progress-bar {\n        background: #F44336;\n    }\n</style>\n"
          },
          "metadata": {}
        },
        {
          "output_type": "display_data",
          "data": {
            "text/plain": "<IPython.core.display.HTML object>",
            "text/html": "\n    <div>\n      <progress value='105070592' class='' max='105067061' style='width:300px; height:20px; vertical-align: middle;'></progress>\n      100.00% [105070592/105067061 00:03&lt;00:00]\n    </div>\n    "
          },
          "metadata": {}
        }
      ]
    },
    {
      "cell_type": "code",
      "source": [
        "learn.fine_tune(4, 1e-2)"
      ],
      "metadata": {
        "execution": {
          "iopub.status.busy": "2024-04-04T05:46:51.691084Z",
          "iopub.execute_input": "2024-04-04T05:46:51.691779Z",
          "iopub.status.idle": "2024-04-04T06:18:06.500576Z",
          "shell.execute_reply.started": "2024-04-04T05:46:51.691745Z",
          "shell.execute_reply": "2024-04-04T06:18:06.499641Z"
        },
        "trusted": true,
        "id": "fhZusBD1msjI",
        "outputId": "dd561ef7-3bb9-4fdd-ed2b-a53b45fd9437"
      },
      "execution_count": null,
      "outputs": [
        {
          "output_type": "display_data",
          "data": {
            "text/plain": "<IPython.core.display.HTML object>",
            "text/html": "\n<style>\n    /* Turns off some styling */\n    progress {\n        /* gets rid of default border in Firefox and Opera. */\n        border: none;\n        /* Needs to be in here for Safari polyfill so background images work as expected. */\n        background-size: auto;\n    }\n    progress:not([value]), progress:not([value])::-webkit-progress-bar {\n        background: repeating-linear-gradient(45deg, #7e7e7e, #7e7e7e 10px, #5c5c5c 10px, #5c5c5c 20px);\n    }\n    .progress-bar-interrupted, .progress-bar-interrupted::-webkit-progress-bar {\n        background: #F44336;\n    }\n</style>\n"
          },
          "metadata": {}
        },
        {
          "output_type": "display_data",
          "data": {
            "text/plain": "<IPython.core.display.HTML object>",
            "text/html": "<table border=\"1\" class=\"dataframe\">\n  <thead>\n    <tr style=\"text-align: left;\">\n      <th>epoch</th>\n      <th>train_loss</th>\n      <th>valid_loss</th>\n      <th>accuracy</th>\n      <th>time</th>\n    </tr>\n  </thead>\n  <tbody>\n    <tr>\n      <td>0</td>\n      <td>0.464301</td>\n      <td>0.403392</td>\n      <td>0.816440</td>\n      <td>03:16</td>\n    </tr>\n  </tbody>\n</table>"
          },
          "metadata": {}
        },
        {
          "output_type": "display_data",
          "data": {
            "text/plain": "<IPython.core.display.HTML object>",
            "text/html": "\n<style>\n    /* Turns off some styling */\n    progress {\n        /* gets rid of default border in Firefox and Opera. */\n        border: none;\n        /* Needs to be in here for Safari polyfill so background images work as expected. */\n        background-size: auto;\n    }\n    progress:not([value]), progress:not([value])::-webkit-progress-bar {\n        background: repeating-linear-gradient(45deg, #7e7e7e, #7e7e7e 10px, #5c5c5c 10px, #5c5c5c 20px);\n    }\n    .progress-bar-interrupted, .progress-bar-interrupted::-webkit-progress-bar {\n        background: #F44336;\n    }\n</style>\n"
          },
          "metadata": {}
        },
        {
          "output_type": "display_data",
          "data": {
            "text/plain": "<IPython.core.display.HTML object>",
            "text/html": "<table border=\"1\" class=\"dataframe\">\n  <thead>\n    <tr style=\"text-align: left;\">\n      <th>epoch</th>\n      <th>train_loss</th>\n      <th>valid_loss</th>\n      <th>accuracy</th>\n      <th>time</th>\n    </tr>\n  </thead>\n  <tbody>\n    <tr>\n      <td>0</td>\n      <td>0.295514</td>\n      <td>0.297310</td>\n      <td>0.878800</td>\n      <td>06:59</td>\n    </tr>\n    <tr>\n      <td>1</td>\n      <td>0.246242</td>\n      <td>0.213751</td>\n      <td>0.912840</td>\n      <td>06:59</td>\n    </tr>\n    <tr>\n      <td>2</td>\n      <td>0.189195</td>\n      <td>0.202908</td>\n      <td>0.918360</td>\n      <td>06:59</td>\n    </tr>\n    <tr>\n      <td>3</td>\n      <td>0.146368</td>\n      <td>0.192502</td>\n      <td>0.927040</td>\n      <td>06:59</td>\n    </tr>\n  </tbody>\n</table>"
          },
          "metadata": {}
        }
      ]
    },
    {
      "cell_type": "code",
      "source": [
        "learn.show_results()"
      ],
      "metadata": {
        "execution": {
          "iopub.status.busy": "2024-04-04T06:26:00.538969Z",
          "iopub.execute_input": "2024-04-04T06:26:00.539674Z",
          "iopub.status.idle": "2024-04-04T06:26:02.651155Z",
          "shell.execute_reply.started": "2024-04-04T06:26:00.539637Z",
          "shell.execute_reply": "2024-04-04T06:26:02.650178Z"
        },
        "trusted": true,
        "id": "k3rHZ6QbmsjI",
        "outputId": "af5af0d1-a6f7-4e09-cdf0-1802f16d4e4b"
      },
      "execution_count": null,
      "outputs": [
        {
          "output_type": "display_data",
          "data": {
            "text/plain": "<IPython.core.display.HTML object>",
            "text/html": "\n<style>\n    /* Turns off some styling */\n    progress {\n        /* gets rid of default border in Firefox and Opera. */\n        border: none;\n        /* Needs to be in here for Safari polyfill so background images work as expected. */\n        background-size: auto;\n    }\n    progress:not([value]), progress:not([value])::-webkit-progress-bar {\n        background: repeating-linear-gradient(45deg, #7e7e7e, #7e7e7e 10px, #5c5c5c 10px, #5c5c5c 20px);\n    }\n    .progress-bar-interrupted, .progress-bar-interrupted::-webkit-progress-bar {\n        background: #F44336;\n    }\n</style>\n"
          },
          "metadata": {}
        },
        {
          "output_type": "display_data",
          "data": {
            "text/plain": "<IPython.core.display.HTML object>",
            "text/html": ""
          },
          "metadata": {}
        },
        {
          "output_type": "display_data",
          "data": {
            "text/plain": "<IPython.core.display.HTML object>",
            "text/html": "<table border=\"1\" class=\"dataframe\">\n  <thead>\n    <tr style=\"text-align: right;\">\n      <th></th>\n      <th>text</th>\n      <th>category</th>\n      <th>category_</th>\n    </tr>\n  </thead>\n  <tbody>\n    <tr>\n      <th>0</th>\n      <td>xxbos xxmaj there 's a sign on xxmaj the xxmaj lost xxmaj highway that says : \\n\\n * major xxup spoilers xxup ahead * \\n\\n ( but you already knew that , did n't you ? ) \\n\\n xxmaj since there 's a great deal of people that apparently did not get the point of this movie , xxmaj i 'd like to contribute my interpretation of why the plot makes perfect sense . xxmaj as others have pointed out , one single viewing of this movie is not sufficient . xxmaj if you have the xxup dvd of xxup md , you can \" cheat \" by looking at xxmaj david xxmaj lynch 's \" top 10 xxmaj hints to xxmaj unlocking xxup md \" ( but only upon second or third viewing , please . ) ;) \\n\\n xxmaj first of all , xxmaj mulholland xxmaj drive is</td>\n      <td>pos</td>\n      <td>pos</td>\n    </tr>\n    <tr>\n      <th>1</th>\n      <td>xxbos \" the xxmaj moon xxmaj is xxmaj blue \" director xxmaj otto xxmaj preminger tackled even more taboo subject matter in his controversial 1955 release \" the xxmaj man with the xxmaj golden xxmaj arm . \" xxmaj whereas he had incensed the xxmaj motion xxmaj picture xxmaj association of xxmaj america with his use of the words \" virgin \" and \" mistress \" in his mild 1953 comedy \" the xxmaj moon xxmaj is xxmaj blue , \" xxmaj preminger went far beyond what any movie had attempted with \" the xxmaj man with the xxmaj golden xxmaj arm \" since xxmaj dick xxmaj powell made his law and order epic \" to the xxmaj ends of the xxmaj xxunk ) about thwarting the international traffic in narcotics . xxmaj based on xxmaj nelson xxmaj algren 's novel that won the 1950 xxmaj national xxmaj book xxmaj</td>\n      <td>pos</td>\n      <td>pos</td>\n    </tr>\n    <tr>\n      <th>2</th>\n      <td>xxbos xxmaj it has been widely agreed that xxmaj hayao xxmaj miyazaki is a master at his craft when it comes to combining rich animation with thoughtful story lines and similarly imaginative characters . xxmaj his movies , from xxup nausicaa , xxup totoro , xxup kiki , xxup laputa , and xxup mononoke to the recent xxup howl 's xxup moving xxup castle are all not only gorgeously rendered in terms of art , but in terms of movie - making as well . xxmaj can this man do no wrong ? xxmaj not really , but it is impossible to expect everyone of his movies to always be five star marvels . xxmaj his newest film , xxup ponyo , an unashamedly family - friendly tale of a \" goldfish out of water \" , is as lushly animated and alive with interesting characters as you would expect</td>\n      <td>pos</td>\n      <td>pos</td>\n    </tr>\n    <tr>\n      <th>3</th>\n      <td>xxbos xxmaj my qualifications for this review ? i own all the xxmaj alien and xxmaj predator movies &amp; i have and have read almost all the books i can find that are related to this series . \\n\\n i can safely say , this movie is a xxmaj stinker . xxmaj save your money &amp; do n't waste your time . xxmaj if you like mindless action , mindless gore , no plot to speak of &amp; like being taken by xxmaj hollywood , see the movie . \\n\\n xxmaj if you are a serious xxmaj alien series fan , send a message to the over stuffed , over paid suits in xxmaj hollywood &amp; 20th xxmaj century xxmaj fox &amp; do n't give them a penny . \\n\\n xxmaj this movie has so many plot holes in it you could sieve pasta through it . xxmaj read the</td>\n      <td>neg</td>\n      <td>neg</td>\n    </tr>\n    <tr>\n      <th>4</th>\n      <td>xxbos xxmaj on account of my unfortunately not being able to find them anywhere , i have not gotten to try any of the other entries in the series , although i certainly would not mind , and trust me , i have looked . xxmaj for anyone who does not know , this is a point - and - click adventure title . xxmaj that means that the mouse is what you use to interface with everything that you can do so with in this , though there is one particular case in this where that is inaccurate . i wo n't spoil it here , for anyone who have n't yet tried it . xxmaj nevertheless , regardless of how little experience you have with computers , you can sit right down and try this . xxmaj there is n't even terribly many bits of this where you</td>\n      <td>pos</td>\n      <td>pos</td>\n    </tr>\n    <tr>\n      <th>5</th>\n      <td>xxbos xxmaj dracula 3 xxrep 3 0 or xxmaj van xxmaj helsing \" dracula 's xxmaj revenge \" ( cheap cash in on another lame xxmaj vampire flick ) as i saw it is a master class in how not to make a movie . a rag tag collection of misfit xxunk 's board a previously lost cargo ship \" the xxmaj demeter \" in the ( cough ) xxmaj carpathian xxmaj system ( which later is upgraded to the xxmaj carpathian xxmaj galaxy ) and awake a relentless evil ( in this case the script ) . xxmaj the film is a bizarre bastardization of xxmaj event xxmaj horizon and whatever the lamest xxmaj vampire film of all time is . \\n\\n▁ xxrep 4 * xxmaj spoliers xxmaj follow xxrep 4 * xxmaj after a plethora of production company logos and a credit sequence that most of the budget</td>\n      <td>neg</td>\n      <td>neg</td>\n    </tr>\n    <tr>\n      <th>6</th>\n      <td>xxbos i am a pretty much a sucker for those xxmaj ghost xxmaj hunter shows . xxmaj from the xxmaj cheesy mockumentaries like xxmaj discovery xxmaj channel 's \" the xxmaj haunting \" to xxmaj scooby xxmaj doo xxmaj reality shows like \" ghost xxmaj hunters \" . xxmaj when i saw promos for a&amp;e 's \" paranormal xxmaj state \" i knew i was going to watch . xxmaj especially when \" paranormal xxmaj state \" was juxtaposed against a weak xxmaj monday xxmaj night xxmaj football game . \\n\\n xxmaj by the end of the pilot of \" paranormal xxmaj state \" when the main \" character \" in this reality dance macabre gives a xxmaj creepy xxmaj kid a bottle of xxmaj max xxmaj von xxmaj sydow xxmaj holy xxmaj water and reassures him by telling this boy that he , too , had a unspecified bad</td>\n      <td>neg</td>\n      <td>neg</td>\n    </tr>\n    <tr>\n      <th>7</th>\n      <td>xxbos xxmaj the xxmaj play xxmaj macbeth was written by xxmaj william xxmaj shakespeare between the years of xxunk and xxunk . xxmaj ever since then , many other versions of the play have been produced , including remakes completed in 1948 , 1971 , and 2006 . xxmaj akira xxmaj kurosawa even directed a xxmaj japanese version of xxmaj macbeth in 1957 entitled , \" xxunk xxunk . \" xxmaj the play starts out with xxmaj king xxmaj duncan hearing about the success of two of his generals , xxmaj macbeth and xxmaj banquo , in a recent battle with the xxmaj irish and the xxmaj norwegians . xxmaj after a quick promotion from xxmaj duncan , xxmaj macbeth instantly gets an uncanny feeling for lust , greed , and power and does everything in his power to gain access to the crown : even if it includes murder</td>\n      <td>neg</td>\n      <td>neg</td>\n    </tr>\n    <tr>\n      <th>8</th>\n      <td>xxbos xxmaj one has to be careful whom one tells about watching 12 - hour long films . xxmaj it could become easy for people to assume that this is some kind of regular occurrence - in fact , even in the world of ' arthouse ' cinema , such mammoth running times are extremely rare , for obvious reasons . xxmaj this is one thing that xxmaj hollywood and art cinema share in common : the generally accepted running time of 90 - 120 minutes , with a minority of movies that dare to approach , but rarely exceed , the three - hour mark . \\n\\n xxmaj for this reason , a film like xxmaj out 1 ( runtime : xxunk minutes ) is a challenge for even the most hardened cinephile , and it goes some way in explaining why it has only ever been screened on</td>\n      <td>pos</td>\n      <td>pos</td>\n    </tr>\n  </tbody>\n</table>"
          },
          "metadata": {}
        }
      ]
    },
    {
      "cell_type": "code",
      "source": [
        "learn.predict(\"I really liked that movie!\")"
      ],
      "metadata": {
        "execution": {
          "iopub.status.busy": "2024-04-04T06:27:23.352438Z",
          "iopub.execute_input": "2024-04-04T06:27:23.353162Z",
          "iopub.status.idle": "2024-04-04T06:27:23.404148Z",
          "shell.execute_reply.started": "2024-04-04T06:27:23.353130Z",
          "shell.execute_reply": "2024-04-04T06:27:23.403383Z"
        },
        "trusted": true,
        "id": "j9XCaTMTmsjJ",
        "outputId": "4e43753c-9540-4989-a8c3-5220302f04ff"
      },
      "execution_count": null,
      "outputs": [
        {
          "output_type": "display_data",
          "data": {
            "text/plain": "<IPython.core.display.HTML object>",
            "text/html": "\n<style>\n    /* Turns off some styling */\n    progress {\n        /* gets rid of default border in Firefox and Opera. */\n        border: none;\n        /* Needs to be in here for Safari polyfill so background images work as expected. */\n        background-size: auto;\n    }\n    progress:not([value]), progress:not([value])::-webkit-progress-bar {\n        background: repeating-linear-gradient(45deg, #7e7e7e, #7e7e7e 10px, #5c5c5c 10px, #5c5c5c 20px);\n    }\n    .progress-bar-interrupted, .progress-bar-interrupted::-webkit-progress-bar {\n        background: #F44336;\n    }\n</style>\n"
          },
          "metadata": {}
        },
        {
          "output_type": "display_data",
          "data": {
            "text/plain": "<IPython.core.display.HTML object>",
            "text/html": ""
          },
          "metadata": {}
        },
        {
          "execution_count": 12,
          "output_type": "execute_result",
          "data": {
            "text/plain": "('pos', tensor(1), tensor([0.0012, 0.9988]))"
          },
          "metadata": {}
        }
      ]
    },
    {
      "cell_type": "code",
      "source": [
        "path = untar_data(URLs.IMDB)\n",
        "path.ls()"
      ],
      "metadata": {
        "execution": {
          "iopub.status.busy": "2024-04-05T06:43:36.489027Z",
          "iopub.execute_input": "2024-04-05T06:43:36.489481Z",
          "iopub.status.idle": "2024-04-05T06:43:36.524749Z",
          "shell.execute_reply.started": "2024-04-05T06:43:36.489438Z",
          "shell.execute_reply": "2024-04-05T06:43:36.523788Z"
        },
        "trusted": true,
        "id": "WPrqS1mRmsjJ",
        "outputId": "d6e981f4-aa07-41c1-b0c1-e9293d7e888b",
        "colab": {
          "base_uri": "https://localhost:8080/",
          "height": 92
        }
      },
      "execution_count": 4,
      "outputs": [
        {
          "output_type": "display_data",
          "data": {
            "text/plain": [
              "<IPython.core.display.HTML object>"
            ],
            "text/html": [
              "\n",
              "<style>\n",
              "    /* Turns off some styling */\n",
              "    progress {\n",
              "        /* gets rid of default border in Firefox and Opera. */\n",
              "        border: none;\n",
              "        /* Needs to be in here for Safari polyfill so background images work as expected. */\n",
              "        background-size: auto;\n",
              "    }\n",
              "    progress:not([value]), progress:not([value])::-webkit-progress-bar {\n",
              "        background: repeating-linear-gradient(45deg, #7e7e7e, #7e7e7e 10px, #5c5c5c 10px, #5c5c5c 20px);\n",
              "    }\n",
              "    .progress-bar-interrupted, .progress-bar-interrupted::-webkit-progress-bar {\n",
              "        background: #F44336;\n",
              "    }\n",
              "</style>\n"
            ]
          },
          "metadata": {}
        },
        {
          "output_type": "display_data",
          "data": {
            "text/plain": [
              "<IPython.core.display.HTML object>"
            ],
            "text/html": [
              "\n",
              "    <div>\n",
              "      <progress value='144441344' class='' max='144440600' style='width:300px; height:20px; vertical-align: middle;'></progress>\n",
              "      100.00% [144441344/144440600 00:23&lt;00:00]\n",
              "    </div>\n",
              "    "
            ]
          },
          "metadata": {}
        },
        {
          "output_type": "execute_result",
          "data": {
            "text/plain": [
              "(#7) [Path('/root/.fastai/data/imdb/tmp_lm'),Path('/root/.fastai/data/imdb/README'),Path('/root/.fastai/data/imdb/imdb.vocab'),Path('/root/.fastai/data/imdb/unsup'),Path('/root/.fastai/data/imdb/test'),Path('/root/.fastai/data/imdb/train'),Path('/root/.fastai/data/imdb/tmp_clas')]"
            ]
          },
          "metadata": {},
          "execution_count": 4
        }
      ]
    },
    {
      "cell_type": "code",
      "source": [
        "(path/'train').ls()"
      ],
      "metadata": {
        "execution": {
          "iopub.status.busy": "2024-04-05T06:43:36.526632Z",
          "iopub.execute_input": "2024-04-05T06:43:36.526908Z",
          "iopub.status.idle": "2024-04-05T06:43:36.535947Z",
          "shell.execute_reply.started": "2024-04-05T06:43:36.526884Z",
          "shell.execute_reply": "2024-04-05T06:43:36.534951Z"
        },
        "trusted": true,
        "id": "5IeBC9FBmsjJ",
        "outputId": "67df2a56-a421-468b-8f5e-15b2c00c366e"
      },
      "execution_count": null,
      "outputs": [
        {
          "execution_count": 8,
          "output_type": "execute_result",
          "data": {
            "text/plain": "(#4) [Path('/root/.fastai/data/imdb/train/neg'),Path('/root/.fastai/data/imdb/train/unsupBow.feat'),Path('/root/.fastai/data/imdb/train/labeledBow.feat'),Path('/root/.fastai/data/imdb/train/pos')]"
          },
          "metadata": {}
        }
      ]
    },
    {
      "cell_type": "code",
      "source": [
        "dls = TextDataLoaders.from_folder(untar_data(URLs.IMDB), valid='test')"
      ],
      "metadata": {
        "execution": {
          "iopub.status.busy": "2024-04-05T06:43:36.537041Z",
          "iopub.execute_input": "2024-04-05T06:43:36.537600Z",
          "iopub.status.idle": "2024-04-05T06:48:32.787832Z",
          "shell.execute_reply.started": "2024-04-05T06:43:36.537570Z",
          "shell.execute_reply": "2024-04-05T06:48:32.786838Z"
        },
        "trusted": true,
        "id": "4vLORSbNmsjJ",
        "outputId": "fbdb17ac-2c96-4e71-8990-631df8faf954"
      },
      "execution_count": null,
      "outputs": [
        {
          "output_type": "display_data",
          "data": {
            "text/plain": "<IPython.core.display.HTML object>",
            "text/html": "\n<style>\n    /* Turns off some styling */\n    progress {\n        /* gets rid of default border in Firefox and Opera. */\n        border: none;\n        /* Needs to be in here for Safari polyfill so background images work as expected. */\n        background-size: auto;\n    }\n    progress:not([value]), progress:not([value])::-webkit-progress-bar {\n        background: repeating-linear-gradient(45deg, #7e7e7e, #7e7e7e 10px, #5c5c5c 10px, #5c5c5c 20px);\n    }\n    .progress-bar-interrupted, .progress-bar-interrupted::-webkit-progress-bar {\n        background: #F44336;\n    }\n</style>\n"
          },
          "metadata": {}
        },
        {
          "output_type": "display_data",
          "data": {
            "text/plain": "<IPython.core.display.HTML object>",
            "text/html": ""
          },
          "metadata": {}
        }
      ]
    },
    {
      "cell_type": "code",
      "source": [
        "dls.show_batch()"
      ],
      "metadata": {
        "execution": {
          "iopub.status.busy": "2024-04-05T06:48:32.789149Z",
          "iopub.execute_input": "2024-04-05T06:48:32.789659Z",
          "iopub.status.idle": "2024-04-05T06:48:33.308009Z",
          "shell.execute_reply.started": "2024-04-05T06:48:32.789633Z",
          "shell.execute_reply": "2024-04-05T06:48:33.306993Z"
        },
        "trusted": true,
        "id": "mYWcDzKgmsjJ",
        "outputId": "426d61cc-0e3f-44ae-9178-1ab11165307f"
      },
      "execution_count": null,
      "outputs": [
        {
          "output_type": "display_data",
          "data": {
            "text/plain": "<IPython.core.display.HTML object>",
            "text/html": "<table border=\"1\" class=\"dataframe\">\n  <thead>\n    <tr style=\"text-align: right;\">\n      <th></th>\n      <th>text</th>\n      <th>category</th>\n    </tr>\n  </thead>\n  <tbody>\n    <tr>\n      <th>0</th>\n      <td>xxbos xxmaj match 1 : xxmaj tag xxmaj team xxmaj table xxmaj match xxmaj bubba xxmaj ray and xxmaj spike xxmaj dudley vs xxmaj eddie xxmaj guerrero and xxmaj chris xxmaj benoit xxmaj bubba xxmaj ray and xxmaj spike xxmaj dudley started things off with a xxmaj tag xxmaj team xxmaj table xxmaj match against xxmaj eddie xxmaj guerrero and xxmaj chris xxmaj benoit . xxmaj according to the rules of the match , both opponents have to go through tables in order to get the win . xxmaj benoit and xxmaj guerrero heated up early on by taking turns hammering first xxmaj spike and then xxmaj bubba xxmaj ray . a xxmaj german xxunk by xxmaj benoit to xxmaj bubba took the wind out of the xxmaj dudley brother . xxmaj spike tried to help his brother , but the referee restrained him while xxmaj benoit and xxmaj guerrero</td>\n      <td>pos</td>\n    </tr>\n    <tr>\n      <th>1</th>\n      <td>xxbos \" fever xxmaj pitch \" is n't a bad film ; it 's a terrible film . \\n\\n xxmaj is it possible xxmaj american movie audiences and critics are so numbed and lobotomized by the excrement that xxmaj hollywood churns out that they 'll praise to the skies even a mediocre film with barely any laughs ? xxmaj that 's the only reason i can think of why this horrible romantic comedy ( and i use that term loosely because there 's nothing funny in this film ) is getting good reviews . \\n\\n i sat through this film stunned that screenwriters xxmaj lowell xxmaj ganz and xxmaj babaloo xxmaj mandel would even for an instant think their script was funny . \\n\\n xxmaj the brilliant xxmaj nick xxmaj hornby usually translates well to film . xxmaj he adapted \" fever xxmaj pitch \" for a xxmaj british film</td>\n      <td>neg</td>\n    </tr>\n    <tr>\n      <th>2</th>\n      <td>xxbos xxmaj well , on it 's credit side ( if it can be said to have one ) , xxmaj timothy xxmaj hines xxup did manage to capture the original setting of xxup h.g . xxmaj wells ' outstanding novella . xxmaj but other than that - well , to call a spade a spade - it sucks bigtime . xxmaj what the xxmaj master xxmaj ed xxmaj wood could have done with the alleged $ 20 million dollar budget ! xxmaj timothy xxmaj hines really does make xxmaj mr . xxmaj wood , who was a flawed genius anyway , look like the best filmmaker of all time . xxmaj the special effects ( i guess you 'd call them that ) are not even up to computer game standards . xxmaj the acting is , well , perhaps about dinner theater comparable , and the accents are</td>\n      <td>neg</td>\n    </tr>\n    <tr>\n      <th>3</th>\n      <td>xxbos xxmaj on xxmaj sunday xxmaj july 27 , 1997 , the first episode of a new science fiction series called \" stargate xxup sg-1 \" was broadcast on xxmaj showtime . a spin - off of and sequel to the 1994 film \" stargate \" starring xxmaj kurt xxmaj russell and xxmaj james xxmaj spader , the series begins approximately one year after the events portrayed in the film . xxmaj for ten seasons , it chronicled the adventures and misadventures of an intrepid team of explorers known as xxup sg-1 . xxmaj originally , the series starred xxmaj richard xxmaj dean xxmaj anderson as xxmaj colonel xxmaj jack o'neill ( two \" xxunk ! ) , xxmaj michael xxmaj shanks as xxmaj dr . xxmaj daniel xxmaj jackson , xxmaj amanda xxmaj tapping as xxmaj captain xxmaj samantha xxmaj carter , xxmaj christopher xxmaj judge as xxmaj teal'c</td>\n      <td>pos</td>\n    </tr>\n    <tr>\n      <th>4</th>\n      <td>xxbos xxrep 6 * xxup warning : xxup may xxup contain xxup spoilers xxrep 14 * \\n\\n xxmaj so who are these \" mystery xxmaj men ? \" xxmaj simply put , the xxmaj mystery xxmaj men are a group of sub - heroes desperately trying to live out their adolescent fantasy lives while botching both their real identities and their super identities . xxmaj the xxmaj shoveller ( bill xxmaj macy ) works construction during the day , and at night , leaves his wife and kids at home while he cruises the street looking for crimes to tackle with his extraordinary and unique xxmaj shovel - fighting style . xxmaj the xxmaj blue xxmaj raja ( hank xxmaj azaria ) sells silverware to newlyweds by day and flings xxunk at crackpot villians by night , if his mom is n't keeping him busy with the latest snooping .</td>\n      <td>pos</td>\n    </tr>\n    <tr>\n      <th>5</th>\n      <td>xxbos xxmaj in his 1966 film \" blow xxmaj up \" , xxmaj antonioni had his hero question truth against a backdrop of xxmaj british youth protesters . xxmaj by setting such questions against a fabric of hippie youth movements , xxmaj antonioni questioned , intentionally or not , the effectiveness of these organisations . xxmaj how can you fight for a cause when what you think is true may actually be a lie ? xxmaj on the flip side , the film said that we must fight and actively challenge what we see precisely because others may be deceiving us with false images and false truths . xxmaj though the hippie aspects were the most tacky parts of \" blow xxmaj up \" , they created a nice texture and gave the film more meaning than it might otherwise have had . xxmaj it was a very cautionary and</td>\n      <td>neg</td>\n    </tr>\n    <tr>\n      <th>6</th>\n      <td>xxbos xxmaj within the realm of xxmaj science xxmaj fiction , two particular themes consistently elicit interest , were initially explored in the literature of a pre - cinematic era , and have since been periodically revisited by filmmakers and writers alike , with varying degrees of success . xxmaj the first theme , that of time travel , has held an unwavering fascination for fans of film , as well as the written word , most recently on the screen with yet another version of the xxup h.g . xxmaj wells classic , ` the xxmaj time xxmaj machine . ' xxmaj the second theme , which also manages to hold audiences in thrall , is that of invisibility , which sparks the imagination with it 's seemingly endless and myriad possibilities . xxmaj and this theme , too , has again become the basis for a film adapted</td>\n      <td>neg</td>\n    </tr>\n    <tr>\n      <th>7</th>\n      <td>xxbos a drama at its very core , \" anna \" displays that genuine truth that all actors age , and sometimes , fade away . xxmaj anna is a character that believes xxmaj america is her safety net , her home , and it can do her no wrong  but she refuses to belittle herself to do work she does n't believe in . xxmaj she is hard - nosed , optimistic , stubborn , and arrogant when it comes to her life , yet not afraid to let others in , yet drop them at a moments notice . xxmaj anna flip - flops between personalities , which makes this film ideal of an aging star , but not idea of the viewing audience . \" anna \" has been praised for its star xxmaj sally xxmaj kirkland , and her ability to get \" grungy \"</td>\n      <td>neg</td>\n    </tr>\n    <tr>\n      <th>8</th>\n      <td>xxbos xxmaj scarecrows is one of those films that , with a little more acting , a little more direction , and a lot more story logic , would have been quite compelling as a horror entry . xxmaj as it stands , it is still a creepy film that has solid make - up and gore effects , and a premise that sustains the mood of terror in spite of itself . xxmaj and hey , there are no teenagers getting killed one by one -- just dumb adults , so that is a refreshing change of pace . xxmaj and the plot line is amazingly similar to xxmaj dead xxmaj birds , with a precipitating robbery , an abandoned spooky house in the middle of nowhere , and demonic monsters . xxmaj but just like xxmaj dead xxmaj birds , the adults are still witless , they run</td>\n      <td>neg</td>\n    </tr>\n  </tbody>\n</table>"
          },
          "metadata": {}
        }
      ]
    },
    {
      "cell_type": "code",
      "source": [
        "learn = text_classifier_learner(dls, AWD_LSTM, drop_mult=0.5, metrics=accuracy)"
      ],
      "metadata": {
        "id": "Q9QnYubqmsjJ"
      },
      "execution_count": null,
      "outputs": []
    },
    {
      "cell_type": "code",
      "source": [
        "learn.fine_tune(4, 1e-2)"
      ],
      "metadata": {
        "id": "Btn1f78UmsjJ"
      },
      "execution_count": null,
      "outputs": []
    },
    {
      "cell_type": "code",
      "source": [
        "imdb = DataBlock(blocks=(TextBlock.from_folder(path), CategoryBlock),\n",
        "                 get_items=get_text_files,\n",
        "                 get_y=parent_label,\n",
        "                 splitter=GrandparentSplitter(valid_name='test'))"
      ],
      "metadata": {
        "id": "K0JZZKq-msjK"
      },
      "execution_count": null,
      "outputs": []
    },
    {
      "cell_type": "code",
      "source": [
        "dls = imdb.dataloaders(path)"
      ],
      "metadata": {
        "id": "PnLnDpEhmsjK"
      },
      "execution_count": null,
      "outputs": []
    },
    {
      "cell_type": "markdown",
      "source": [
        "##ULMFiT##\n",
        "\n",
        "ULMFiT (Universal Language Model Fine-tuning) is a method for improving the performance of text models on specific tasks by leveraging pre-trained models and transfer learning. Here's the gist of the method:\n",
        "\n",
        "Pre-training: ULMFiT starts with a pre-trained language model on a massive dataset like Wikipedia text. This model learns general language understanding.\n",
        "\n",
        "Gradual Fine-tuning:  Then, ULMFiT fine-tunes the pre-trained model for the target task in stages:\n",
        "\n",
        "Fine-tune the Language Model: The model is further trained on the target task data, but not all parts are adjusted equally.\n",
        "\n",
        "Gradual Unfreezing: Layers closer to the output (more specific knowledge) are adjusted more significantly, while earlier layers (general understanding) are adjusted less to prevent forgetting their core function.\n",
        "\n",
        "Fine-tune the Classifier: Finally, a classifier specific to the target task (e.g., sentiment analysis) is added on top of the fine-tuned language model and trained.\n",
        "\n",
        "ULMFiT's strength lies in its ability to achieve good results even with limited labeled data for the target task, because the model benefits from the pre-trained knowledge."
      ],
      "metadata": {
        "id": "_UQq7adpmsjK"
      }
    },
    {
      "cell_type": "code",
      "source": [
        "dls_lm = TextDataLoaders.from_folder(path, is_lm=True, valid_pct=0.1)"
      ],
      "metadata": {
        "execution": {
          "iopub.status.busy": "2024-04-05T06:49:23.870265Z",
          "iopub.execute_input": "2024-04-05T06:49:23.870702Z",
          "iopub.status.idle": "2024-04-05T06:49:29.295071Z",
          "shell.execute_reply.started": "2024-04-05T06:49:23.870671Z",
          "shell.execute_reply": "2024-04-05T06:49:29.294168Z"
        },
        "trusted": true,
        "id": "fTNQ6ZDCmsjK",
        "outputId": "e5f88c39-d388-4929-d029-a5438f7ef8da",
        "colab": {
          "base_uri": "https://localhost:8080/",
          "height": 17
        }
      },
      "execution_count": 5,
      "outputs": [
        {
          "output_type": "display_data",
          "data": {
            "text/plain": [
              "<IPython.core.display.HTML object>"
            ],
            "text/html": [
              "\n",
              "<style>\n",
              "    /* Turns off some styling */\n",
              "    progress {\n",
              "        /* gets rid of default border in Firefox and Opera. */\n",
              "        border: none;\n",
              "        /* Needs to be in here for Safari polyfill so background images work as expected. */\n",
              "        background-size: auto;\n",
              "    }\n",
              "    progress:not([value]), progress:not([value])::-webkit-progress-bar {\n",
              "        background: repeating-linear-gradient(45deg, #7e7e7e, #7e7e7e 10px, #5c5c5c 10px, #5c5c5c 20px);\n",
              "    }\n",
              "    .progress-bar-interrupted, .progress-bar-interrupted::-webkit-progress-bar {\n",
              "        background: #F44336;\n",
              "    }\n",
              "</style>\n"
            ]
          },
          "metadata": {}
        },
        {
          "output_type": "display_data",
          "data": {
            "text/plain": [
              "<IPython.core.display.HTML object>"
            ],
            "text/html": []
          },
          "metadata": {}
        }
      ]
    },
    {
      "cell_type": "code",
      "source": [
        "dls_lm.show_batch(max_n=5)"
      ],
      "metadata": {
        "execution": {
          "iopub.status.busy": "2024-04-05T06:50:16.741872Z",
          "iopub.execute_input": "2024-04-05T06:50:16.742284Z",
          "iopub.status.idle": "2024-04-05T06:50:17.426586Z",
          "shell.execute_reply.started": "2024-04-05T06:50:16.742256Z",
          "shell.execute_reply": "2024-04-05T06:50:17.425698Z"
        },
        "trusted": true,
        "id": "fYRrdGPqmsjK",
        "outputId": "e7def25a-4f95-4b94-91f4-058e9f39661c",
        "colab": {
          "base_uri": "https://localhost:8080/",
          "height": 466
        }
      },
      "execution_count": 6,
      "outputs": [
        {
          "output_type": "display_data",
          "data": {
            "text/plain": [
              "<IPython.core.display.HTML object>"
            ],
            "text/html": [
              "<table border=\"1\" class=\"dataframe\">\n",
              "  <thead>\n",
              "    <tr style=\"text-align: right;\">\n",
              "      <th></th>\n",
              "      <th>text</th>\n",
              "      <th>text_</th>\n",
              "    </tr>\n",
              "  </thead>\n",
              "  <tbody>\n",
              "    <tr>\n",
              "      <th>0</th>\n",
              "      <td>xxbos xxmaj did anyone else notice that xxmaj patrick xxmaj stewart was not actually on location in xxmaj thailand with the rest of the cast . xxmaj all his scenes were in a studio or against a ' blue ' screen , even when appearing to be in scenes with other actors - probably the best xxmaj special xxmaj effect in this film . xxmaj perhaps he did not realise how bad</td>\n",
              "      <td>xxmaj did anyone else notice that xxmaj patrick xxmaj stewart was not actually on location in xxmaj thailand with the rest of the cast . xxmaj all his scenes were in a studio or against a ' blue ' screen , even when appearing to be in scenes with other actors - probably the best xxmaj special xxmaj effect in this film . xxmaj perhaps he did not realise how bad the</td>\n",
              "    </tr>\n",
              "    <tr>\n",
              "      <th>1</th>\n",
              "      <td>for xxmaj gangsters with xxmaj xxunk xxmaj ambitions . \\n\\n xxmaj snipes delivers in the action xxunk is in half - blade mode xxunk actually does well in the first 15 minutes of the xxmaj detonator , before descending into pure sleepwalking mode that ruined the xxunk does more than look xxunk is some conviction to her xxunk lot of the actors look familiar , and have been in the last 3</td>\n",
              "      <td>xxmaj gangsters with xxmaj xxunk xxmaj ambitions . \\n\\n xxmaj snipes delivers in the action xxunk is in half - blade mode xxunk actually does well in the first 15 minutes of the xxmaj detonator , before descending into pure sleepwalking mode that ruined the xxunk does more than look xxunk is some conviction to her xxunk lot of the actors look familiar , and have been in the last 3 or</td>\n",
              "    </tr>\n",
              "    <tr>\n",
              "      <th>2</th>\n",
              "      <td>emotional pain , trying our best and sometimes not meeting the expectations of others , and the love and compassionate that can bring us together -- its all there in this powerfully moving film . \\n\\n xxmaj the story begins in xxmaj ireland , with a young wife and mother , who learns that her younger brother , xxmaj declan , ( also an adult ) , is in a hospital ,</td>\n",
              "      <td>pain , trying our best and sometimes not meeting the expectations of others , and the love and compassionate that can bring us together -- its all there in this powerfully moving film . \\n\\n xxmaj the story begins in xxmaj ireland , with a young wife and mother , who learns that her younger brother , xxmaj declan , ( also an adult ) , is in a hospital , that</td>\n",
              "    </tr>\n",
              "    <tr>\n",
              "      <th>3</th>\n",
              "      <td>but i just abhor when i can figure out what is going to happen next . xxmaj also , i hated to see good actors like xxmaj lena xxmaj olin and xxmaj giancarlo xxmaj giannini sweat so much over this piece of dreck . xxmaj finally , xxmaj anna xxmaj paquin as the star of a horror film ? xxmaj this must be a joke . xxmaj she is cute but she</td>\n",
              "      <td>i just abhor when i can figure out what is going to happen next . xxmaj also , i hated to see good actors like xxmaj lena xxmaj olin and xxmaj giancarlo xxmaj giannini sweat so much over this piece of dreck . xxmaj finally , xxmaj anna xxmaj paquin as the star of a horror film ? xxmaj this must be a joke . xxmaj she is cute but she is</td>\n",
              "    </tr>\n",
              "    <tr>\n",
              "      <th>4</th>\n",
              "      <td>as good as the first in my opinion , ca n't wait for the third one to come out ! xxbos xxmaj upon completing this infernal piece of trash , a friend and i swore a solemn vow never to again speak of how we had just trashed away the last 90 minutes of our lives . xxmaj this film is completely pointless , a two dimensional hero and heroin who we</td>\n",
              "      <td>good as the first in my opinion , ca n't wait for the third one to come out ! xxbos xxmaj upon completing this infernal piece of trash , a friend and i swore a solemn vow never to again speak of how we had just trashed away the last 90 minutes of our lives . xxmaj this film is completely pointless , a two dimensional hero and heroin who we ca</td>\n",
              "    </tr>\n",
              "  </tbody>\n",
              "</table>"
            ]
          },
          "metadata": {}
        }
      ]
    },
    {
      "cell_type": "code",
      "source": [
        "learn = language_model_learner(dls_lm, AWD_LSTM, metrics=[accuracy, Perplexity()], path=path, wd=0.1).to_fp16()"
      ],
      "metadata": {
        "execution": {
          "iopub.status.busy": "2024-04-05T06:50:37.862332Z",
          "iopub.execute_input": "2024-04-05T06:50:37.862707Z",
          "iopub.status.idle": "2024-04-05T06:50:43.351168Z",
          "shell.execute_reply.started": "2024-04-05T06:50:37.862680Z",
          "shell.execute_reply": "2024-04-05T06:50:43.350313Z"
        },
        "trusted": true,
        "id": "7s9GQKFPmsjK",
        "outputId": "1a2a3a02-7f70-4091-947b-76f06d754d20",
        "colab": {
          "base_uri": "https://localhost:8080/",
          "height": 37
        }
      },
      "execution_count": 7,
      "outputs": [
        {
          "output_type": "display_data",
          "data": {
            "text/plain": [
              "<IPython.core.display.HTML object>"
            ],
            "text/html": [
              "\n",
              "<style>\n",
              "    /* Turns off some styling */\n",
              "    progress {\n",
              "        /* gets rid of default border in Firefox and Opera. */\n",
              "        border: none;\n",
              "        /* Needs to be in here for Safari polyfill so background images work as expected. */\n",
              "        background-size: auto;\n",
              "    }\n",
              "    progress:not([value]), progress:not([value])::-webkit-progress-bar {\n",
              "        background: repeating-linear-gradient(45deg, #7e7e7e, #7e7e7e 10px, #5c5c5c 10px, #5c5c5c 20px);\n",
              "    }\n",
              "    .progress-bar-interrupted, .progress-bar-interrupted::-webkit-progress-bar {\n",
              "        background: #F44336;\n",
              "    }\n",
              "</style>\n"
            ]
          },
          "metadata": {}
        },
        {
          "output_type": "display_data",
          "data": {
            "text/plain": [
              "<IPython.core.display.HTML object>"
            ],
            "text/html": [
              "\n",
              "    <div>\n",
              "      <progress value='105070592' class='' max='105067061' style='width:300px; height:20px; vertical-align: middle;'></progress>\n",
              "      100.00% [105070592/105067061 00:09&lt;00:00]\n",
              "    </div>\n",
              "    "
            ]
          },
          "metadata": {}
        }
      ]
    },
    {
      "cell_type": "markdown",
      "source": [
        "Switched from Kaggle to Colab as Kaggle was unable to run these simple examples without timing out, and was also having problems saving the notebooks to github."
      ],
      "metadata": {
        "id": "NPMSEsafnZ2t"
      }
    },
    {
      "cell_type": "code",
      "source": [
        "learn.fit_one_cycle(1, 1e-2)"
      ],
      "metadata": {
        "execution": {
          "iopub.status.busy": "2024-04-05T06:50:59.945163Z",
          "iopub.execute_input": "2024-04-05T06:50:59.945815Z",
          "iopub.status.idle": "2024-04-05T07:15:23.711068Z",
          "shell.execute_reply.started": "2024-04-05T06:50:59.945781Z",
          "shell.execute_reply": "2024-04-05T07:15:23.709985Z"
        },
        "trusted": true,
        "id": "7JlNFZl2msjK",
        "outputId": "45f9d138-23fc-4abe-b373-1d24fe325f4e",
        "colab": {
          "base_uri": "https://localhost:8080/",
          "height": 95
        }
      },
      "execution_count": null,
      "outputs": [
        {
          "output_type": "display_data",
          "data": {
            "text/plain": [
              "<IPython.core.display.HTML object>"
            ],
            "text/html": [
              "\n",
              "<style>\n",
              "    /* Turns off some styling */\n",
              "    progress {\n",
              "        /* gets rid of default border in Firefox and Opera. */\n",
              "        border: none;\n",
              "        /* Needs to be in here for Safari polyfill so background images work as expected. */\n",
              "        background-size: auto;\n",
              "    }\n",
              "    progress:not([value]), progress:not([value])::-webkit-progress-bar {\n",
              "        background: repeating-linear-gradient(45deg, #7e7e7e, #7e7e7e 10px, #5c5c5c 10px, #5c5c5c 20px);\n",
              "    }\n",
              "    .progress-bar-interrupted, .progress-bar-interrupted::-webkit-progress-bar {\n",
              "        background: #F44336;\n",
              "    }\n",
              "</style>\n"
            ]
          },
          "metadata": {}
        },
        {
          "output_type": "display_data",
          "data": {
            "text/plain": [
              "<IPython.core.display.HTML object>"
            ],
            "text/html": [
              "\n",
              "    <div>\n",
              "      <progress value='0' class='' max='1' style='width:300px; height:20px; vertical-align: middle;'></progress>\n",
              "      0.00% [0/1 00:00&lt;?]\n",
              "    </div>\n",
              "    \n",
              "<table border=\"1\" class=\"dataframe\">\n",
              "  <thead>\n",
              "    <tr style=\"text-align: left;\">\n",
              "      <th>epoch</th>\n",
              "      <th>train_loss</th>\n",
              "      <th>valid_loss</th>\n",
              "      <th>accuracy</th>\n",
              "      <th>perplexity</th>\n",
              "      <th>time</th>\n",
              "    </tr>\n",
              "  </thead>\n",
              "  <tbody>\n",
              "  </tbody>\n",
              "</table><p>\n",
              "\n",
              "    <div>\n",
              "      <progress value='816' class='' max='5842' style='width:300px; height:20px; vertical-align: middle;'></progress>\n",
              "      13.97% [816/5842 03:09&lt;19:24 4.5176]\n",
              "    </div>\n",
              "    "
            ]
          },
          "metadata": {}
        }
      ]
    },
    {
      "cell_type": "code",
      "source": [
        "learn.save('1epoch')"
      ],
      "metadata": {
        "execution": {
          "iopub.status.busy": "2024-04-05T07:16:19.055905Z",
          "iopub.execute_input": "2024-04-05T07:16:19.056678Z",
          "iopub.status.idle": "2024-04-05T07:16:19.727987Z",
          "shell.execute_reply.started": "2024-04-05T07:16:19.056647Z",
          "shell.execute_reply": "2024-04-05T07:16:19.726993Z"
        },
        "trusted": true,
        "id": "iczM0NonmsjK",
        "outputId": "d4c3d044-2ed0-4bb1-cf19-bb39bd49ff9c"
      },
      "execution_count": null,
      "outputs": [
        {
          "execution_count": 17,
          "output_type": "execute_result",
          "data": {
            "text/plain": "Path('/root/.fastai/data/imdb/models/1epoch.pth')"
          },
          "metadata": {}
        }
      ]
    },
    {
      "cell_type": "code",
      "source": [
        "learn = learn.load('1epoch')"
      ],
      "metadata": {
        "execution": {
          "iopub.status.busy": "2024-04-05T07:16:23.404786Z",
          "iopub.execute_input": "2024-04-05T07:16:23.405310Z",
          "iopub.status.idle": "2024-04-05T07:16:23.678075Z",
          "shell.execute_reply.started": "2024-04-05T07:16:23.405272Z",
          "shell.execute_reply": "2024-04-05T07:16:23.677041Z"
        },
        "trusted": true,
        "id": "PoqcYFpamsjL"
      },
      "execution_count": null,
      "outputs": []
    },
    {
      "cell_type": "code",
      "source": [
        "learn.unfreeze()\n",
        "learn.fit_one_cycle(10, 1e-3)"
      ],
      "metadata": {
        "execution": {
          "iopub.status.busy": "2024-04-05T07:16:31.855344Z",
          "iopub.execute_input": "2024-04-05T07:16:31.855719Z",
          "iopub.status.idle": "2024-04-05T08:34:50.689408Z",
          "shell.execute_reply.started": "2024-04-05T07:16:31.855690Z",
          "shell.execute_reply": "2024-04-05T08:34:50.688062Z"
        },
        "trusted": true,
        "id": "TKmVPvYOmsjL",
        "outputId": "e579f5c7-ac33-4666-f9d8-de41527a3a6f"
      },
      "execution_count": null,
      "outputs": [
        {
          "output_type": "display_data",
          "data": {
            "text/plain": "<IPython.core.display.HTML object>",
            "text/html": "\n<style>\n    /* Turns off some styling */\n    progress {\n        /* gets rid of default border in Firefox and Opera. */\n        border: none;\n        /* Needs to be in here for Safari polyfill so background images work as expected. */\n        background-size: auto;\n    }\n    progress:not([value]), progress:not([value])::-webkit-progress-bar {\n        background: repeating-linear-gradient(45deg, #7e7e7e, #7e7e7e 10px, #5c5c5c 10px, #5c5c5c 20px);\n    }\n    .progress-bar-interrupted, .progress-bar-interrupted::-webkit-progress-bar {\n        background: #F44336;\n    }\n</style>\n"
          },
          "metadata": {}
        },
        {
          "output_type": "display_data",
          "data": {
            "text/plain": "<IPython.core.display.HTML object>",
            "text/html": "<table border=\"1\" class=\"dataframe\">\n  <thead>\n    <tr style=\"text-align: left;\">\n      <th>epoch</th>\n      <th>train_loss</th>\n      <th>valid_loss</th>\n      <th>accuracy</th>\n      <th>perplexity</th>\n      <th>time</th>\n    </tr>\n  </thead>\n  <tbody>\n    <tr>\n      <td>0</td>\n      <td>4.067464</td>\n      <td>3.918259</td>\n      <td>0.304209</td>\n      <td>50.312771</td>\n      <td>26:08</td>\n    </tr>\n    <tr>\n      <td>1</td>\n      <td>3.966590</td>\n      <td>3.827632</td>\n      <td>0.314044</td>\n      <td>45.953579</td>\n      <td>26:07</td>\n    </tr>\n    <tr>\n      <td>2</td>\n      <td>3.898737</td>\n      <td>3.782675</td>\n      <td>0.319294</td>\n      <td>43.933418</td>\n      <td>26:02</td>\n    </tr>\n  </tbody>\n</table>"
          },
          "metadata": {}
        }
      ]
    },
    {
      "cell_type": "code",
      "source": [
        "learn.save_encoder('finetuned')"
      ],
      "metadata": {
        "trusted": true,
        "id": "LJUMqiblmsjL"
      },
      "execution_count": null,
      "outputs": []
    },
    {
      "cell_type": "code",
      "source": [
        "TEXT = \"I liked this movie because\"\n",
        "N_WORDS = 40\n",
        "N_SENTENCES = 2\n",
        "preds = [learn.predict(TEXT, N_WORDS, temperature=0.75)\n",
        "         for _ in range(N_SENTENCES)]"
      ],
      "metadata": {
        "id": "oOfD8YoamsjL"
      },
      "execution_count": null,
      "outputs": []
    }
  ]
}